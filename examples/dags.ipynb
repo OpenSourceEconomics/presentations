{
 "cells": [
  {
   "cell_type": "code",
   "execution_count": 1,
   "metadata": {},
   "outputs": [],
   "source": [
    "import dags"
   ]
  },
  {
   "cell_type": "code",
   "execution_count": 2,
   "metadata": {},
   "outputs": [],
   "source": [
    "def utility(consumption, leisure, leisure_prefs):\n",
    "    return consumption + leisure_prefs[\"weight\"] * leisure ** leisure_prefs[\"exponent\"]\n",
    "\n",
    "\n",
    "def leisure_prefs(params):\n",
    "    return params[\"preferences\"][\"leisure\"]\n",
    "\n",
    "\n",
    "def leisure(params):\n",
    "    return params[\"time_budget\"] - params[\"work\"][\"hours\"]\n",
    "\n",
    "\n",
    "def income(params):\n",
    "    return params[\"work\"][\"hourly_wage\"] * params[\"work\"][\"hours\"]\n",
    "\n",
    "\n",
    "def consumption(income):\n",
    "    return income\n",
    "\n",
    "\n",
    "def unrelated(working_hours):\n",
    "    raise NotImplementedError()\n"
   ]
  },
  {
   "cell_type": "code",
   "execution_count": 3,
   "metadata": {},
   "outputs": [],
   "source": [
    "from estimagic import maximize\n",
    "from copy import deepcopy"
   ]
  },
  {
   "cell_type": "code",
   "execution_count": 26,
   "metadata": {},
   "outputs": [],
   "source": [
    "start_params = {\n",
    "    \"preferences\": {\n",
    "        \"leisure\": {\n",
    "            \"weight\": 2,\n",
    "            \"exponent\": 0.5\n",
    "        }\n",
    "    },\n",
    "    \"work\": {\n",
    "        \"hourly_wage\": 25,\n",
    "        \"hours\": 2_000\n",
    "    },\n",
    "    \"time_budget\": 24 * 7 * 365,\n",
    "}\n"
   ]
  },
  {
   "cell_type": "code",
   "execution_count": 27,
   "metadata": {},
   "outputs": [],
   "source": [
    "model = dags.concatenate_functions(\n",
    "    functions=[utility, unrelated, leisure, leisure_prefs, consumption, income],\n",
    "    targets=[\"utility\", \"consumption\"],\n",
    "    return_type=\"dict\"\n",
    ")\n"
   ]
  },
  {
   "cell_type": "code",
   "execution_count": 28,
   "metadata": {},
   "outputs": [
    {
     "data": {
      "text/plain": [
       "{'utility': 50487.11394970787, 'consumption': 50000}"
      ]
     },
     "execution_count": 28,
     "metadata": {},
     "output_type": "execute_result"
    }
   ],
   "source": [
    "model(params=start_params)"
   ]
  },
  {
   "cell_type": "code",
   "execution_count": 29,
   "metadata": {},
   "outputs": [],
   "source": [
    "u = dags.concatenate_functions(\n",
    "    functions=[utility, leisure, leisure_prefs, income, consumption],\n",
    "    targets=\"utility\"\n",
    ")"
   ]
  },
  {
   "cell_type": "code",
   "execution_count": 30,
   "metadata": {},
   "outputs": [],
   "source": [
    "def return_all_but_working_hours(params):\n",
    "    out = deepcopy(params)\n",
    "    del out[\"work\"][\"hours\"]\n",
    "    return out"
   ]
  },
  {
   "cell_type": "code",
   "execution_count": 31,
   "metadata": {},
   "outputs": [],
   "source": [
    "result = maximize(\n",
    "    criterion=u,\n",
    "    params=start_params,\n",
    "    constraints=[\n",
    "        {\n",
    "            \"selector\": return_all_but_working_hours, \n",
    "            \"type\": \"fixed\"\n",
    "        },\n",
    "        {\n",
    "            \"selector\": lambda p: [p[\"work\"][\"hours\"], p[\"time_budget\"]],\n",
    "            \"type\": \"decreasing\"\n",
    "        },\n",
    "    ],\n",
    "    lower_bounds={\"work\": {\"hours\": 0}},\n",
    "    algorithm=\"nlopt_neldermead\",\n",
    "    logging=\"log.db\",\n",
    "    log_options={\"if_database_exists\": \"replace\"}\n",
    ")"
   ]
  },
  {
   "cell_type": "code",
   "execution_count": 32,
   "metadata": {},
   "outputs": [
    {
     "data": {
      "text/plain": [
       "Maximize with 1 free parameters terminated successfully after 12 criterion evaluations.\n",
       "\n",
       "The value of criterion improved from 50487.11394970787 to 1533000.0.\n",
       "\n",
       "The nlopt_neldermead algorithm reported: Optimizer stopped because convergence_relative_params_tolerance or convergence_absolute_params_tolerance was reached\n",
       "\n",
       "Independent of the convergence criteria used by nlopt_neldermead, the strength of convergence can be assessed by the following criteria:\n",
       "\n",
       "                          one_step   five_steps \n",
       "relative_criterion_change   0***        0.698   \n",
       "relative_params_change      0***       0.6983   \n",
       "absolute_criterion_change   0***     1.07e+06   \n",
       "absolute_params_change      0***    4.282e+04   \n",
       "\n",
       "(***: change <= 1e-10, **: change <= 1e-8, *: change <= 1e-5. Change refers to a change between accepted steps. The first column only considers the last step. The second column considers the last five steps.)"
      ]
     },
     "execution_count": 32,
     "metadata": {},
     "output_type": "execute_result"
    }
   ],
   "source": [
    "result"
   ]
  },
  {
   "cell_type": "code",
   "execution_count": 33,
   "metadata": {},
   "outputs": [
    {
     "data": {
      "text/plain": [
       "{'preferences': {'leisure': {'weight': 2.0, 'exponent': 0.5}},\n",
       " 'work': {'hourly_wage': 25.0, 'hours': 61320.0},\n",
       " 'time_budget': 61320.0}"
      ]
     },
     "execution_count": 33,
     "metadata": {},
     "output_type": "execute_result"
    }
   ],
   "source": [
    "result.params"
   ]
  },
  {
   "cell_type": "code",
   "execution_count": null,
   "metadata": {},
   "outputs": [],
   "source": []
  },
  {
   "cell_type": "code",
   "execution_count": 34,
   "metadata": {},
   "outputs": [
    {
     "data": {
      "text/plain": [
       "{'utility': 1533000.0, 'consumption': 1533000.0}"
      ]
     },
     "execution_count": 34,
     "metadata": {},
     "output_type": "execute_result"
    }
   ],
   "source": [
    "model(params=result.params)"
   ]
  },
  {
   "cell_type": "code",
   "execution_count": null,
   "metadata": {},
   "outputs": [],
   "source": []
  }
 ],
 "metadata": {
  "interpreter": {
   "hash": "2ffa7d9e35331924895fc466f3bd5901cdd19125ae45e81397863e01c1d857a8"
  },
  "kernelspec": {
   "display_name": "Python 3.9.13 ('software-pres')",
   "language": "python",
   "name": "python3"
  },
  "language_info": {
   "codemirror_mode": {
    "name": "ipython",
    "version": 3
   },
   "file_extension": ".py",
   "mimetype": "text/x-python",
   "name": "python",
   "nbconvert_exporter": "python",
   "pygments_lexer": "ipython3",
   "version": "3.9.13"
  },
  "orig_nbformat": 4
 },
 "nbformat": 4,
 "nbformat_minor": 2
}
