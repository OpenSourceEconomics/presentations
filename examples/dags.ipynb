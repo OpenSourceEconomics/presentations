{
 "cells": [
  {
   "cell_type": "code",
   "execution_count": 1,
   "metadata": {},
   "outputs": [],
   "source": [
    "import dags"
   ]
  },
  {
   "cell_type": "code",
   "execution_count": 2,
   "metadata": {},
   "outputs": [],
   "source": [
    "def utility(consumption, leisure, leisure_weight):\n",
    "    return consumption + leisure_weight * leisure\n",
    "\n",
    "\n",
    "def leisure(working_hours):\n",
    "    return 24 - working_hours\n",
    "\n",
    "\n",
    "def consumption(working_hours, wage):\n",
    "    return wage * working_hours\n",
    "\n",
    "\n",
    "def unrelated(working_hours):\n",
    "    raise NotImplementedError()\n"
   ]
  },
  {
   "cell_type": "code",
   "execution_count": 3,
   "metadata": {},
   "outputs": [],
   "source": [
    "model = dags.concatenate_functions(\n",
    "    functions=[utility, unrelated, leisure, consumption],\n",
    "    targets=[\"utility\", \"consumption\"],\n",
    "    return_type=\"dict\"\n",
    ")\n"
   ]
  },
  {
   "cell_type": "code",
   "execution_count": 4,
   "metadata": {},
   "outputs": [
    {
     "data": {
      "text/plain": [
       "{'utility': 72, 'consumption': 40}"
      ]
     },
     "execution_count": 4,
     "metadata": {},
     "output_type": "execute_result"
    }
   ],
   "source": [
    "model(wage=5, working_hours=8, leisure_weight=2)"
   ]
  }
 ],
 "metadata": {
  "interpreter": {
   "hash": "2ffa7d9e35331924895fc466f3bd5901cdd19125ae45e81397863e01c1d857a8"
  },
  "kernelspec": {
   "display_name": "Python 3.9.13 ('software-pres')",
   "language": "python",
   "name": "python3"
  },
  "language_info": {
   "codemirror_mode": {
    "name": "ipython",
    "version": 3
   },
   "file_extension": ".py",
   "mimetype": "text/x-python",
   "name": "python",
   "nbconvert_exporter": "python",
   "pygments_lexer": "ipython3",
   "version": "3.9.13"
  },
  "orig_nbformat": 4
 },
 "nbformat": 4,
 "nbformat_minor": 2
}
