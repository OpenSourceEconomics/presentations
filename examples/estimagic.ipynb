{
 "cells": [
  {
   "cell_type": "code",
   "execution_count": 1,
   "metadata": {},
   "outputs": [],
   "source": [
    "from estimagic import minimize"
   ]
  },
  {
   "cell_type": "code",
   "execution_count": 2,
   "metadata": {},
   "outputs": [],
   "source": [
    "start_params = {\n",
    "    \"Type 0\": {\n",
    "        \"β\": 0.95,\n",
    "        \"ɣ\": 2.0\n",
    "    },\n",
    "    \"Type 1\": {\n",
    "        \"β\": 0.98,\n",
    "        \"ɣ\": 2.0\n",
    "    },\n",
    "    \"consumption_floor\": 3_000,\n",
    "}\n"
   ]
  },
  {
   "cell_type": "code",
   "execution_count": 3,
   "metadata": {},
   "outputs": [],
   "source": [
    "def sphere(β, ɣ, consumption_floor):\n",
    "    return β **2 + ɣ **2 + consumption_floor ** 2"
   ]
  },
  {
   "cell_type": "code",
   "execution_count": 4,
   "metadata": {},
   "outputs": [],
   "source": [
    "def spheres(params):\n",
    "\n",
    "    sphere_0 = sphere(\n",
    "        consumption_floor=params[\"consumption_floor\"],\n",
    "        **params[\"Type 0\"]\n",
    "    )\n",
    "    sphere_1 = sphere(\n",
    "        consumption_floor=params[\"consumption_floor\"],\n",
    "        **params[\"Type 1\"]\n",
    "    )\n",
    "    \n",
    "    return sphere_0 + sphere_1"
   ]
  },
  {
   "cell_type": "code",
   "execution_count": 7,
   "metadata": {},
   "outputs": [],
   "source": [
    "res = minimize(\n",
    "    criterion=spheres,\n",
    "    params=start_params,\n",
    "    algorithm=\"scipy_lbfgsb\",\n",
    "    logging=\"sphere_lbfgsb.db\",\n",
    ")\n"
   ]
  },
  {
   "cell_type": "code",
   "execution_count": 8,
   "metadata": {},
   "outputs": [
    {
     "data": {
      "text/plain": [
       "Minimize with 5 free parameters terminated successfully after 9 criterion evaluations, 9 derivative evaluations and 4 iterations.\n",
       "\n",
       "The value of criterion improved from 18000009.8629 to 1.4113570806945137e-16.\n",
       "\n",
       "The scipy_lbfgsb algorithm reported: CONVERGENCE: NORM_OF_PROJECTED_GRADIENT_<=_PGTOL\n",
       "\n",
       "Independent of the convergence criteria used by scipy_lbfgsb, the strength of convergence can be assessed by the following criteria:\n",
       "\n",
       "                           one_step    five_steps \n",
       "relative_criterion_change   2.503     1.775e+08   \n",
       "relative_params_change      5.003     2.979e+04   \n",
       "absolute_criterion_change  0.2503     1.775e+07   \n",
       "absolute_params_change     0.5003          2979   \n",
       "\n",
       "(***: change <= 1e-10, **: change <= 1e-8, *: change <= 1e-5. Change refers to a change between accepted steps. The first column only considers the last step. The second column considers the last five steps.)"
      ]
     },
     "execution_count": 8,
     "metadata": {},
     "output_type": "execute_result"
    }
   ],
   "source": [
    "res"
   ]
  },
  {
   "cell_type": "code",
   "execution_count": null,
   "metadata": {},
   "outputs": [],
   "source": []
  }
 ],
 "metadata": {
  "interpreter": {
   "hash": "2ffa7d9e35331924895fc466f3bd5901cdd19125ae45e81397863e01c1d857a8"
  },
  "kernelspec": {
   "display_name": "Python 3.9.13 ('software-pres')",
   "language": "python",
   "name": "python3"
  },
  "language_info": {
   "codemirror_mode": {
    "name": "ipython",
    "version": 3
   },
   "file_extension": ".py",
   "mimetype": "text/x-python",
   "name": "python",
   "nbconvert_exporter": "python",
   "pygments_lexer": "ipython3",
   "version": "3.9.13"
  },
  "orig_nbformat": 4
 },
 "nbformat": 4,
 "nbformat_minor": 2
}
